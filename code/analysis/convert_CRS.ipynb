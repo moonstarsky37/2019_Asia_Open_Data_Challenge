{
 "cells": [
  {
   "cell_type": "markdown",
   "metadata": {},
   "source": [
    "# Convert tiff file crs\n"
   ]
  },
  {
   "cell_type": "code",
   "execution_count": 1,
   "metadata": {},
   "outputs": [
    {
     "data": {
      "text/plain": [
       "<osgeo.gdal.Dataset; proxy of <Swig Object of type 'GDALDatasetShadow *' at 0x00000290F3D11F00> >"
      ]
     },
     "execution_count": 1,
     "metadata": {},
     "output_type": "execute_result"
    }
   ],
   "source": [
    "from osgeo import gdal\n",
    "\n",
    "filename = \"../../data/Sentinel-2/using_data/T50QRM_20180322T022651_B2348.tif\"\n",
    "input_raster = gdal.Open(filename)\n",
    "output_raster = \"../../data/Sentinel-2/using_data/T50QRM_20180322T022651_B2348_test.tif\"\n",
    "gdal.Warp(output_raster,input_raster,dstSRS='EPSG:3826')"
   ]
  },
  {
   "cell_type": "markdown",
   "metadata": {},
   "source": [
    "# Convert shape file crs"
   ]
  },
  {
   "cell_type": "code",
   "execution_count": 6,
   "metadata": {},
   "outputs": [],
   "source": [
    "from osgeo import ogr, osr\n",
    "import geopandas\n",
    "\n",
    "\n",
    "in_epsg = 3824\n",
    "out_epsg = 3826\n",
    "in_shp = '../data/Sentinel-2/雲林縣/COUNTY_MOI_1080726.shp'\n",
    "out_shp = '../data/Sentinel-2/雲林縣/yunlin.shp'\n",
    "\n",
    "data = geopandas.read_file(in_shp)\n",
    "data_out = data.copy()\n",
    "data_out.to_crs(epsg=3826)\n",
    "data_out.crs = '+title=TWD97 TM2+proj=tmerc +lat_0=0 +lon_0=121 +k=0.9999 +x_0=250000 +y_0=0 +ellps=GRS80 +units=公尺 +no_defs' \n",
    "data_out.to_file(out_shp)"
   ]
  },
  {
   "cell_type": "code",
   "execution_count": 7,
   "metadata": {},
   "outputs": [],
   "source": [
    "import geopandas as gpd\n",
    "\n",
    "tmp = gpd.GeoDataFrame.from_file(in_shp)\n",
    "\n",
    "tmpWGS84 = tmp.to_crs({'init' :'epsg:3826'})\n",
    "\n",
    "tmpWGS84.to_file(out_shp)\n"
   ]
  },
  {
   "cell_type": "code",
   "execution_count": 8,
   "metadata": {},
   "outputs": [],
   "source": []
  },
  {
   "cell_type": "code",
   "execution_count": null,
   "metadata": {},
   "outputs": [],
   "source": []
  },
  {
   "cell_type": "code",
   "execution_count": null,
   "metadata": {},
   "outputs": [],
   "source": []
  },
  {
   "cell_type": "code",
   "execution_count": null,
   "metadata": {},
   "outputs": [],
   "source": []
  },
  {
   "cell_type": "code",
   "execution_count": null,
   "metadata": {},
   "outputs": [],
   "source": []
  }
 ],
 "metadata": {
  "kernelspec": {
   "display_name": "Python 3",
   "language": "python",
   "name": "python3"
  },
  "language_info": {
   "codemirror_mode": {
    "name": "ipython",
    "version": 3
   },
   "file_extension": ".py",
   "mimetype": "text/x-python",
   "name": "python",
   "nbconvert_exporter": "python",
   "pygments_lexer": "ipython3",
   "version": "3.6.5"
  }
 },
 "nbformat": 4,
 "nbformat_minor": 2
}
