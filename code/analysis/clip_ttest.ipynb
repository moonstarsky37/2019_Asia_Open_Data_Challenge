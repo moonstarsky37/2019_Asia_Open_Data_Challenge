{
 "cells": [
  {
   "cell_type": "code",
   "execution_count": 8,
   "metadata": {},
   "outputs": [],
   "source": [
    "import os, subprocess\n",
    "import numpy as np\n",
    "import gdal \n",
    "import numpy as np\n",
    "import geopandas as gpd\n",
    "\n",
    "clip_shp_path = \"../data/Sentinel-2/雲林縣/yunlin.shp\"\n",
    "pred_tif_path = os.path.join(\"../experiments/test/original/pred_T50QRM_20180322T022651_B2348.tif\")\n",
    "shp_path, tif_path = os.path.abspath(clip_shp_path), pred_tif_path\n",
    "\n",
    "def read_tif_file(filename):\n",
    "    filehandle = gdal.Open(filename)\n",
    "    band1 = filehandle.GetRasterBand(1)\n",
    "    geotransform = filehandle.GetGeoTransform()\n",
    "    geoproj = filehandle.GetProjection()\n",
    "    Z = band1.ReadAsArray()\n",
    "    xsize = filehandle.RasterXSize\n",
    "    ysize = filehandle.RasterYSize\n",
    "    return xsize,ysize,geotransform,geoproj,Z\n",
    "\n",
    "\n",
    "def write_tif_file(filename, geotransform, geoprojection, data):\n",
    "    (x,y) = data.shape\n",
    "    driver = gdal.GetDriverByName(\"GTiff\")\n",
    "    dst_ds = driver.Create(filename, y, x, 1, gdal.GDT_Float32)\n",
    "    dst_ds.GetRasterBand(1).WriteArray(data)\n",
    "    dst_ds.SetGeoTransform(geotransform)\n",
    "    dst_ds.SetProjection(geoprojection)\n",
    "    dst_ds.GetRasterBand(1).SetNoDataValue(-9999)\n",
    "    return 1"
   ]
  },
  {
   "cell_type": "code",
   "execution_count": 11,
   "metadata": {},
   "outputs": [
    {
     "name": "stdout",
     "output_type": "stream",
     "text": [
      "C:\\Users\\thinktron\\Ziyu\\Projects\\satellite_farm\\code\\experiments\\test\\clip_result\\clip_T50QRM_20180322T022651_B2348.tif\n"
     ]
    },
    {
     "ename": "AttributeError",
     "evalue": "'NoneType' object has no attribute 'GetRasterBand'",
     "output_type": "error",
     "traceback": [
      "\u001b[1;31m---------------------------------------------------------------------------\u001b[0m",
      "\u001b[1;31mAttributeError\u001b[0m                            Traceback (most recent call last)",
      "\u001b[1;32m<ipython-input-11-379ac2474490>\u001b[0m in \u001b[0;36m<module>\u001b[1;34m\u001b[0m\n\u001b[0;32m      6\u001b[0m \u001b[0mretcode\u001b[0m \u001b[1;33m=\u001b[0m \u001b[0msubprocess\u001b[0m\u001b[1;33m.\u001b[0m\u001b[0mcall\u001b[0m\u001b[1;33m(\u001b[0m\u001b[0mcmd\u001b[0m\u001b[1;33m,\u001b[0m \u001b[0mshell\u001b[0m\u001b[1;33m=\u001b[0m\u001b[1;32mTrue\u001b[0m\u001b[1;33m)\u001b[0m\u001b[1;33m\u001b[0m\u001b[0m\n\u001b[0;32m      7\u001b[0m \u001b[0mprint\u001b[0m\u001b[1;33m(\u001b[0m\u001b[0mclip_result_path\u001b[0m\u001b[1;33m)\u001b[0m\u001b[1;33m\u001b[0m\u001b[0m\n\u001b[1;32m----> 8\u001b[1;33m \u001b[1;33m[\u001b[0m\u001b[0mxsize\u001b[0m\u001b[1;33m,\u001b[0m\u001b[0mysize\u001b[0m\u001b[1;33m,\u001b[0m\u001b[0mgeotransform\u001b[0m\u001b[1;33m,\u001b[0m\u001b[0mgeoproj\u001b[0m\u001b[1;33m,\u001b[0m\u001b[0mZ\u001b[0m\u001b[1;33m]\u001b[0m \u001b[1;33m=\u001b[0m \u001b[0mread_tif_file\u001b[0m\u001b[1;33m(\u001b[0m\u001b[0mclip_result_path\u001b[0m\u001b[1;33m)\u001b[0m\u001b[1;33m\u001b[0m\u001b[0m\n\u001b[0m\u001b[0;32m      9\u001b[0m \u001b[0mZ\u001b[0m\u001b[1;33m[\u001b[0m\u001b[0mZ\u001b[0m\u001b[1;33m==\u001b[0m\u001b[1;36m0\u001b[0m\u001b[1;33m]\u001b[0m\u001b[1;33m=\u001b[0m \u001b[0mnp\u001b[0m\u001b[1;33m.\u001b[0m\u001b[0mnan\u001b[0m\u001b[1;33m\u001b[0m\u001b[0m\n\u001b[0;32m     10\u001b[0m \u001b[0mwrite_tif_file\u001b[0m\u001b[1;33m(\u001b[0m\u001b[0mclip_result_path\u001b[0m\u001b[1;33m,\u001b[0m \u001b[0mgeotransform\u001b[0m\u001b[1;33m,\u001b[0m \u001b[0mgeoproj\u001b[0m\u001b[1;33m,\u001b[0m \u001b[0mZ\u001b[0m\u001b[1;33m)\u001b[0m\u001b[1;33m\u001b[0m\u001b[0m\n",
      "\u001b[1;32m<ipython-input-8-519cfa398bf9>\u001b[0m in \u001b[0;36mread_tif_file\u001b[1;34m(filename)\u001b[0m\n\u001b[0;32m     11\u001b[0m \u001b[1;32mdef\u001b[0m \u001b[0mread_tif_file\u001b[0m\u001b[1;33m(\u001b[0m\u001b[0mfilename\u001b[0m\u001b[1;33m)\u001b[0m\u001b[1;33m:\u001b[0m\u001b[1;33m\u001b[0m\u001b[0m\n\u001b[0;32m     12\u001b[0m     \u001b[0mfilehandle\u001b[0m \u001b[1;33m=\u001b[0m \u001b[0mgdal\u001b[0m\u001b[1;33m.\u001b[0m\u001b[0mOpen\u001b[0m\u001b[1;33m(\u001b[0m\u001b[0mfilename\u001b[0m\u001b[1;33m)\u001b[0m\u001b[1;33m\u001b[0m\u001b[0m\n\u001b[1;32m---> 13\u001b[1;33m     \u001b[0mband1\u001b[0m \u001b[1;33m=\u001b[0m \u001b[0mfilehandle\u001b[0m\u001b[1;33m.\u001b[0m\u001b[0mGetRasterBand\u001b[0m\u001b[1;33m(\u001b[0m\u001b[1;36m1\u001b[0m\u001b[1;33m)\u001b[0m\u001b[1;33m\u001b[0m\u001b[0m\n\u001b[0m\u001b[0;32m     14\u001b[0m     \u001b[0mgeotransform\u001b[0m \u001b[1;33m=\u001b[0m \u001b[0mfilehandle\u001b[0m\u001b[1;33m.\u001b[0m\u001b[0mGetGeoTransform\u001b[0m\u001b[1;33m(\u001b[0m\u001b[1;33m)\u001b[0m\u001b[1;33m\u001b[0m\u001b[0m\n\u001b[0;32m     15\u001b[0m     \u001b[0mgeoproj\u001b[0m \u001b[1;33m=\u001b[0m \u001b[0mfilehandle\u001b[0m\u001b[1;33m.\u001b[0m\u001b[0mGetProjection\u001b[0m\u001b[1;33m(\u001b[0m\u001b[1;33m)\u001b[0m\u001b[1;33m\u001b[0m\u001b[0m\n",
      "\u001b[1;31mAttributeError\u001b[0m: 'NoneType' object has no attribute 'GetRasterBand'"
     ]
    }
   ],
   "source": [
    "os.makedirs(os.path.join(\"../experiments/test/clip_result\"), exist_ok=True)\n",
    "tif_path = os.path.abspath(tif_path)\n",
    "clip_result_path = tif_path.replace(\"original\", \"clip_result\").replace(\"pred_\", \"clip_\")\n",
    "os.environ[\"GDAL_DATA\"] = \"C:\\Program Files\\QGIS 3.8\\share\\gdal\"\n",
    "cmd = 'gdalwarp -s_srs EPSG:3826 -t_srs EPSG:3826 -of GTiff -cutline {} -crop_to_cutline {} {}'.format(shp_path, tif_path, clip_result_path)\n",
    "retcode = subprocess.call(cmd, shell=True)\n",
    "print(clip_result_path)\n",
    "[xsize,ysize,geotransform,geoproj,Z] = read_tif_file(clip_result_path)\n",
    "Z[Z==0]= np.nan\n",
    "write_tif_file(clip_result_path, geotransform, geoproj, Z)"
   ]
  },
  {
   "cell_type": "code",
   "execution_count": 14,
   "metadata": {},
   "outputs": [
    {
     "name": "stdout",
     "output_type": "stream",
     "text": [
      "32650\n"
     ]
    }
   ],
   "source": [
    "from osgeo import gdal\n",
    "import osr\n",
    "\n",
    "input_raster = gdal.Open(tif_path)\n",
    "# input_raster.\n",
    "proj = osr.SpatialReference(wkt=input_raster.GetProjection())\n",
    "src_csr = proj.GetAttrValue('AUTHORITY',1)\n",
    "print()\n",
    "# output_raster = \"../../data/Sentinel-2/using_data/T50QRM_20180322T022651_B2348_test.tif\"\n",
    "# gdal.Warp(output_raster,input_raster,dstSRS='EPSG:3826')"
   ]
  },
  {
   "cell_type": "code",
   "execution_count": null,
   "metadata": {},
   "outputs": [],
   "source": []
  }
 ],
 "metadata": {
  "kernelspec": {
   "display_name": "Python 3",
   "language": "python",
   "name": "python3"
  },
  "language_info": {
   "codemirror_mode": {
    "name": "ipython",
    "version": 3
   },
   "file_extension": ".py",
   "mimetype": "text/x-python",
   "name": "python",
   "nbconvert_exporter": "python",
   "pygments_lexer": "ipython3",
   "version": "3.6.5"
  }
 },
 "nbformat": 4,
 "nbformat_minor": 2
}
