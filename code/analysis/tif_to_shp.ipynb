{
 "cells": [
  {
   "cell_type": "code",
   "execution_count": 1,
   "metadata": {},
   "outputs": [],
   "source": [
    "import cv2\n",
    "import gdal \n",
    "import ogr, osr\n",
    "import numpy as np\n",
    "import geopandas as gpd\n",
    "import os\n",
    "\n",
    "def convert_geotiff_to_shp(src_tif_path, dst_shp_path):\n",
    "    # this allows GDAL to throw Python Exceptions\n",
    "    gdal.UseExceptions()\n",
    "\n",
    "    #  get raster datasource\n",
    "    src_ds = gdal.Open(src_tif_path)\n",
    "    if src_ds is None:\n",
    "        print('Unable to open %s' % src_filename)\n",
    "        sys.exit(1)\n",
    "\n",
    "    band_num = 1\n",
    "    try:\n",
    "        srcband = src_ds.GetRasterBand(band_num)\n",
    "    except RuntimeError:\n",
    "        # for example, try GetRasterBand(10)\n",
    "        print ('Band ( %i ) not found' % band_num)\n",
    "        sys.exit(1)\n",
    "\n",
    "\n",
    "    #  create output datasource\n",
    "    dst_layername = \"output\"\n",
    "    drv = ogr.GetDriverByName(\"ESRI Shapefile\")\n",
    "    dst_ds = drv.CreateDataSource(dst_shp_path)\n",
    "    \n",
    "    dst_srs = osr.SpatialReference()\n",
    "    dst_srs.ImportFromWkt(src_ds.GetProjection())\n",
    "    dst_layer = dst_ds.CreateLayer(dst_layername, srs = dst_srs )\n",
    "\n",
    "    gdal.Polygonize(srcband, None, dst_layer, -1, [], callback=None )\n",
    "\n",
    "    dst_ds = None\n",
    "    src_ds = None\n",
    "\n"
   ]
  },
  {
   "cell_type": "code",
   "execution_count": 2,
   "metadata": {},
   "outputs": [
    {
     "name": "stdout",
     "output_type": "stream",
     "text": [
      "../experiments/台灣區決賽所用模型及預測結果/clip_result/clip_T50QRM_20170918T022539_B2348.tif\n",
      "../experiments/台灣區決賽所用模型及預測結果/clip_result/clip_T50QRM_20180101T023111_B2348.tif\n",
      "../experiments/台灣區決賽所用模型及預測結果/clip_result/clip_T50QRM_20180215T022759_B2348.tif\n",
      "../experiments/台灣區決賽所用模型及預測結果/clip_result/clip_T50QRM_20180312T022551_B2348.tif\n",
      "../experiments/台灣區決賽所用模型及預測結果/clip_result/clip_T50QRM_20180322T022651_B2348.tif\n",
      "../experiments/台灣區決賽所用模型及預測結果/clip_result/clip_T50QRM_20180426T022549_B2348.tif\n",
      "../experiments/台灣區決賽所用模型及預測結果/clip_result/clip_T50QRM_20190312T022549_B2348.tif\n",
      "../experiments/台灣區決賽所用模型及預測結果/clip_result/clip_T50QRM_20190327T022551_B2348.tif\n",
      "../experiments/台灣區決賽所用模型及預測結果/clip_result/clip_T51QTG_20170215T022751_B2348.tif\n",
      "../experiments/台灣區決賽所用模型及預測結果/clip_result/clip_T51QTG_20190327T022551_B2348.tif\n"
     ]
    }
   ],
   "source": [
    "# multiple case usage\n",
    "folder_path = \"../experiments/台灣區決賽所用模型及預測結果/clip_result/\"\n",
    "file_name = os.listdir(folder_path)\n",
    "for i in file_name:\n",
    "    print(folder_path+i)\n",
    "    convert_geotiff_to_shp(folder_path+i, \"../shp_result/\"+i[:-3]+\"shp\")"
   ]
  },
  {
   "cell_type": "code",
   "execution_count": null,
   "metadata": {},
   "outputs": [],
   "source": []
  },
  {
   "cell_type": "code",
   "execution_count": null,
   "metadata": {},
   "outputs": [],
   "source": [
    "# multiple case usage\n",
    "file_name = [\n",
    "        \"pred_T51QTG_20170215T022751_B2348.tif\", \n",
    "        \"pred_T50QRM_20170918T022539_B2348.tif\", \"pred_T50QRM_20180312T022551_B2348.tif\", \n",
    "        \"pred_T50QRM_20180215T022759_B2348.tif\", \"pred_T50QRM_20180322T022651_B2348.tif\"\n",
    "        ]\n",
    "for i in file_name:\n",
    "    print(i)\n",
    "    convert_geotiff_to_shp(i, \"./shp_result/\"+i[:-3]+\"shp\")"
   ]
  },
  {
   "cell_type": "code",
   "execution_count": null,
   "metadata": {},
   "outputs": [],
   "source": [
    "# single case usage\n",
    "convert_geotiff_to_shp(\"./pred_T51QTG_20170215T022751_B2348.tif\", \"./shp_result/pred_T51QTG_20170215T022751_B2348.shp\")"
   ]
  },
  {
   "cell_type": "code",
   "execution_count": null,
   "metadata": {},
   "outputs": [],
   "source": []
  }
 ],
 "metadata": {
  "kernelspec": {
   "display_name": "Python 3",
   "language": "python",
   "name": "python3"
  },
  "language_info": {
   "codemirror_mode": {
    "name": "ipython",
    "version": 3
   },
   "file_extension": ".py",
   "mimetype": "text/x-python",
   "name": "python",
   "nbconvert_exporter": "python",
   "pygments_lexer": "ipython3",
   "version": "3.6.5"
  }
 },
 "nbformat": 4,
 "nbformat_minor": 2
}
