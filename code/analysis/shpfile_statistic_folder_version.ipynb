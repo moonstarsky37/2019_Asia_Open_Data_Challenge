{
 "cells": [
  {
   "cell_type": "markdown",
   "metadata": {},
   "source": [
    "# 保留的統計資訊\n",
    "\n",
    "farms: 幾塊農田\n",
    "\n",
    "average_area: 平均面積(公頃)\n",
    "\n",
    "total_area: 總面積(公頃)\n",
    "\n",
    "yield_per_hec: 單位面積產量(公噸/公頃),2017: 5.852675, 2018: 6.867416, 2019: 5.76519876\n",
    "\n",
    "yield: 雲林縣總產量\n"
   ]
  },
  {
   "cell_type": "code",
   "execution_count": 1,
   "metadata": {},
   "outputs": [
    {
     "data": {
      "text/plain": [
       "{'clip_T50QRM_20170918T022539_B2348.shp': {'farms': 27708,\n",
       "  'avg_area': 12.960880329318059,\n",
       "  'total_area': 359120.0721647448,\n",
       "  'yield_per_hec': 5.852675,\n",
       "  'yield': 2101813.0683567976},\n",
       " 'clip_T50QRM_20180101T023111_B2348.shp': {'farms': 26365,\n",
       "  'avg_area': 13.621091301525837,\n",
       "  'total_area': 359120.0721647287,\n",
       "  'yield_per_hec': 6.867416,\n",
       "  'yield': 2466226.9295052127},\n",
       " 'clip_T50QRM_20180215T022759_B2348.shp': {'farms': 46793,\n",
       "  'avg_area': 7.67465373378107,\n",
       "  'total_area': 359120.0721648176,\n",
       "  'yield_per_hec': 6.867416,\n",
       "  'yield': 2466226.929505823},\n",
       " 'clip_T50QRM_20180312T022551_B2348.shp': {'farms': 29465,\n",
       "  'avg_area': 12.188022133538299,\n",
       "  'total_area': 359120.07216470595,\n",
       "  'yield_per_hec': 6.867416,\n",
       "  'yield': 2466226.9295050562},\n",
       " 'clip_T50QRM_20180322T022651_B2348.shp': {'farms': 31807,\n",
       "  'avg_area': 11.290598679176671,\n",
       "  'total_area': 359120.0721885724,\n",
       "  'yield_per_hec': 6.867416,\n",
       "  'yield': 2466226.929668957},\n",
       " 'clip_T50QRM_20180426T022549_B2348.shp': {'farms': 13154,\n",
       "  'avg_area': 27.301206641683134,\n",
       "  'total_area': 359120.07216469996,\n",
       "  'yield_per_hec': 6.867416,\n",
       "  'yield': 2466226.9295050153},\n",
       " 'clip_T50QRM_20190312T022549_B2348.shp': {'farms': 54105,\n",
       "  'avg_area': 6.6374655237919,\n",
       "  'total_area': 359120.0721647608,\n",
       "  'yield_per_hec': 5.76519876,\n",
       "  'yield': 2070398.5947353893},\n",
       " 'clip_T50QRM_20190327T022551_B2348.shp': {'farms': 37852,\n",
       "  'avg_area': 9.487479451248735,\n",
       "  'total_area': 359120.07218866714,\n",
       "  'yield_per_hec': 5.76519876,\n",
       "  'yield': 2070398.5948732141},\n",
       " 'clip_T51QTG_20170215T022751_B2348.shp': {'farms': 34513,\n",
       "  'avg_area': 10.405839431153172,\n",
       "  'total_area': 359136.7362873894,\n",
       "  'yield_per_hec': 5.852675,\n",
       "  'yield': 2101910.598050797},\n",
       " 'clip_T51QTG_20190327T022551_B2348.shp': {'farms': 20422,\n",
       "  'avg_area': 17.5857769213364,\n",
       "  'total_area': 359136.73628753197,\n",
       "  'yield_per_hec': 5.76519876,\n",
       "  'yield': 2070494.6667153263}}"
      ]
     },
     "execution_count": 1,
     "metadata": {},
     "output_type": "execute_result"
    }
   ],
   "source": [
    "import geopandas as gpd\n",
    "import numpy as np\n",
    "from shapely.geometry import Polygon\n",
    "import os, json\n",
    "shp_folder = '../experiments/台灣區決賽所用模型及預測結果/shp_result/'\n",
    "\n",
    "\n",
    "shp_list = [f for f in os.listdir(shp_folder) if f.endswith('.shp')]\n",
    "predict_dict= {}\n",
    "\n",
    "def yield_per_hec_val(filename):\n",
    "    if \"2017\" in filename:\n",
    "        return 5.852675\n",
    "    elif \"2018\" in filename:\n",
    "        return 6.867416\n",
    "    elif \"2019\" in filename:\n",
    "        return 5.76519876\n",
    "    else:\n",
    "        pass\n",
    "    \n",
    "for f in shp_list:\n",
    "    df_pred = gpd.read_file(shp_folder + f)\n",
    "    total_area = np.sum(df_pred.geometry.area)/1e4 # 公尺平方 -> 公頃\n",
    "    predict_dict[f] = {\n",
    "        'farms': len(df_pred),\n",
    "        'avg_area': total_area / len(df_pred),\n",
    "        'total_area': total_area,\n",
    "        'yield_per_hec' : yield_per_hec_val(f),\n",
    "        'yield': total_area * yield_per_hec_val(f)\n",
    "    }\n",
    "\n",
    "    with open('../experiments/台灣區決賽所用模型及預測結果/statistics/衛星圖統計{}.txt'.format(f), 'w') as file:\n",
    "         file.write(json.dumps(predict_dict[f])) \n",
    "\n",
    "predict_dict"
   ]
  },
  {
   "cell_type": "code",
   "execution_count": null,
   "metadata": {},
   "outputs": [],
   "source": []
  }
 ],
 "metadata": {
  "kernelspec": {
   "display_name": "Python 3",
   "language": "python",
   "name": "python3"
  },
  "language_info": {
   "codemirror_mode": {
    "name": "ipython",
    "version": 3
   },
   "file_extension": ".py",
   "mimetype": "text/x-python",
   "name": "python",
   "nbconvert_exporter": "python",
   "pygments_lexer": "ipython3",
   "version": "3.6.5"
  }
 },
 "nbformat": 4,
 "nbformat_minor": 2
}
