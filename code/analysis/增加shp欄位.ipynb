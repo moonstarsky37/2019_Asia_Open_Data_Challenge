{
 "cells": [
  {
   "cell_type": "code",
   "execution_count": 1,
   "metadata": {},
   "outputs": [],
   "source": [
    "import gdal \n",
    "import ogr, osr\n",
    "import numpy as np\n",
    "import geopandas as gpd\n",
    "import os\n",
    "from shapely.geometry import Polygon"
   ]
  },
  {
   "cell_type": "markdown",
   "metadata": {},
   "source": [
    "# 2017"
   ]
  },
  {
   "cell_type": "code",
   "execution_count": 2,
   "metadata": {},
   "outputs": [],
   "source": [
    "shp_pred = gpd.read_file(\"../shp_result/clip_T50QRM_20170918T022539_B2348.shp\")"
   ]
  },
  {
   "cell_type": "code",
   "execution_count": 4,
   "metadata": {},
   "outputs": [
    {
     "data": {
      "text/html": [
       "<div>\n",
       "<style scoped>\n",
       "    .dataframe tbody tr th:only-of-type {\n",
       "        vertical-align: middle;\n",
       "    }\n",
       "\n",
       "    .dataframe tbody tr th {\n",
       "        vertical-align: top;\n",
       "    }\n",
       "\n",
       "    .dataframe thead th {\n",
       "        text-align: right;\n",
       "    }\n",
       "</style>\n",
       "<table border=\"1\" class=\"dataframe\">\n",
       "  <thead>\n",
       "    <tr style=\"text-align: right;\">\n",
       "      <th></th>\n",
       "      <th>FID</th>\n",
       "      <th>geometry</th>\n",
       "      <th>area(hec)</th>\n",
       "      <th>yield_per_hec</th>\n",
       "    </tr>\n",
       "  </thead>\n",
       "  <tbody>\n",
       "    <tr>\n",
       "      <th>0</th>\n",
       "      <td>0</td>\n",
       "      <td>POLYGON ((173017.1936134067 2636643.614328057,...</td>\n",
       "      <td>0.029927</td>\n",
       "      <td>0.175152</td>\n",
       "    </tr>\n",
       "    <tr>\n",
       "      <th>1</th>\n",
       "      <td>1</td>\n",
       "      <td>POLYGON ((173077.1203411027 2636643.614328057,...</td>\n",
       "      <td>0.009976</td>\n",
       "      <td>0.058384</td>\n",
       "    </tr>\n",
       "    <tr>\n",
       "      <th>2</th>\n",
       "      <td>2</td>\n",
       "      <td>POLYGON ((173077.1203411027 2636613.650964208,...</td>\n",
       "      <td>0.009976</td>\n",
       "      <td>0.058384</td>\n",
       "    </tr>\n",
       "    <tr>\n",
       "      <th>3</th>\n",
       "      <td>3</td>\n",
       "      <td>POLYGON ((173386.7417675323 2636503.785296766,...</td>\n",
       "      <td>0.009976</td>\n",
       "      <td>0.058384</td>\n",
       "    </tr>\n",
       "    <tr>\n",
       "      <th>4</th>\n",
       "      <td>4</td>\n",
       "      <td>POLYGON ((173107.0837049508 2636483.809720867,...</td>\n",
       "      <td>0.009976</td>\n",
       "      <td>0.058384</td>\n",
       "    </tr>\n",
       "  </tbody>\n",
       "</table>\n",
       "</div>"
      ],
      "text/plain": [
       "   FID                                           geometry  area(hec)  \\\n",
       "0    0  POLYGON ((173017.1936134067 2636643.614328057,...   0.029927   \n",
       "1    1  POLYGON ((173077.1203411027 2636643.614328057,...   0.009976   \n",
       "2    2  POLYGON ((173077.1203411027 2636613.650964208,...   0.009976   \n",
       "3    3  POLYGON ((173386.7417675323 2636503.785296766,...   0.009976   \n",
       "4    4  POLYGON ((173107.0837049508 2636483.809720867,...   0.009976   \n",
       "\n",
       "   yield_per_hec  \n",
       "0       0.175152  \n",
       "1       0.058384  \n",
       "2       0.058384  \n",
       "3       0.058384  \n",
       "4       0.058384  "
      ]
     },
     "execution_count": 4,
     "metadata": {},
     "output_type": "execute_result"
    }
   ],
   "source": [
    "# yield_per_hec: 單位面積產量(公噸/公頃),2017: 5.852675, 2018: 6.867416, 2019: 5.76519876\n",
    "shp_pred[\"area(hec)\"] = shp_pred.geometry.area / 1e4 # 原本是 m2\n",
    "shp_pred[\"yield_per_hec\"] = shp_pred.geometry.area / 1e4 * 5.852675\n",
    "shp_pred.head()"
   ]
  },
  {
   "cell_type": "code",
   "execution_count": 6,
   "metadata": {},
   "outputs": [],
   "source": [
    "shp_pred.to_file('../add_column_shp/clip_T50QRM_20170918T022539_B2348.shp', driver='ESRI Shapefile')"
   ]
  },
  {
   "cell_type": "markdown",
   "metadata": {},
   "source": [
    "# 2018"
   ]
  },
  {
   "cell_type": "code",
   "execution_count": 7,
   "metadata": {},
   "outputs": [],
   "source": [
    "shp_pred = gpd.read_file(\"../shp_result/clip_T50QRM_20180101T023111_B2348.shp\")\n",
    "shp_pred[\"area(hec)\"] = shp_pred.geometry.area / 1e4 # 原本是 m2\n",
    "shp_pred[\"yield_per_hec\"] = shp_pred.geometry.area / 1e4 * 6.867416\n",
    "shp_pred.to_file('../add_column_shp/clip_T50QRM_20180101T023111_B2348.shp', driver='ESRI Shapefile')"
   ]
  },
  {
   "cell_type": "code",
   "execution_count": 8,
   "metadata": {},
   "outputs": [],
   "source": [
    "shp_pred = gpd.read_file(\"../shp_result/clip_T50QRM_20180215T022759_B2348.shp\")\n",
    "shp_pred[\"area(hec)\"] = shp_pred.geometry.area / 1e4 # 原本是 m2\n",
    "shp_pred[\"yield_per_hec\"] = shp_pred.geometry.area / 1e4 * 6.867416\n",
    "shp_pred.to_file('../add_column_shp/clip_T50QRM_20180215T022759_B2348.shp', driver='ESRI Shapefile')"
   ]
  },
  {
   "cell_type": "code",
   "execution_count": 9,
   "metadata": {},
   "outputs": [],
   "source": [
    "shp_pred = gpd.read_file(\"../shp_result/clip_T50QRM_20180312T022551_B2348.shp\")\n",
    "shp_pred[\"area(hec)\"] = shp_pred.geometry.area / 1e4 # 原本是 m2\n",
    "shp_pred[\"yield_per_hec\"] = shp_pred.geometry.area / 1e4 * 6.867416\n",
    "shp_pred.to_file('../add_column_shp/clip_T50QRM_20180312T022551_B2348.shp', driver='ESRI Shapefile')"
   ]
  },
  {
   "cell_type": "code",
   "execution_count": 10,
   "metadata": {},
   "outputs": [],
   "source": [
    "shp_pred = gpd.read_file(\"../shp_result/clip_T50QRM_20180322T022651_B2348.shp\")\n",
    "shp_pred[\"area(hec)\"] = shp_pred.geometry.area / 1e4 # 原本是 m2\n",
    "shp_pred[\"yield_per_hec\"] = shp_pred.geometry.area / 1e4 * 6.867416\n",
    "shp_pred.to_file('../add_column_shp/clip_T50QRM_20180322T022651_B2348.shp', driver='ESRI Shapefile')"
   ]
  },
  {
   "cell_type": "code",
   "execution_count": 11,
   "metadata": {},
   "outputs": [],
   "source": [
    "shp_pred = gpd.read_file(\"../shp_result/clip_T50QRM_20180426T022549_B2348.shp\")\n",
    "shp_pred[\"area(hec)\"] = shp_pred.geometry.area / 1e4 # 原本是 m2\n",
    "shp_pred[\"yield_per_hec\"] = shp_pred.geometry.area / 1e4 * 6.867416\n",
    "shp_pred.to_file('../add_column_shp/clip_T50QRM_20180426T022549_B2348.shp', driver='ESRI Shapefile')"
   ]
  },
  {
   "cell_type": "code",
   "execution_count": 12,
   "metadata": {},
   "outputs": [],
   "source": [
    "shp_pred = gpd.read_file(\"../shp_result/clip_T50QRM_20190312T022549_B2348.shp\")\n",
    "shp_pred[\"area(hec)\"] = shp_pred.geometry.area / 1e4 # 原本是 m2\n",
    "shp_pred[\"yield_per_hec\"] = shp_pred.geometry.area / 1e4 * 5.76519876\n",
    "shp_pred.to_file('../add_column_shp/clip_T50QRM_20190312T022549_B2348.shp', driver='ESRI Shapefile')"
   ]
  },
  {
   "cell_type": "code",
   "execution_count": 13,
   "metadata": {},
   "outputs": [],
   "source": [
    "shp_pred = gpd.read_file(\"../shp_result/clip_T50QRM_20190327T022551_B2348.shp\")\n",
    "shp_pred[\"area(hec)\"] = shp_pred.geometry.area / 1e4 # 原本是 m2\n",
    "shp_pred[\"yield_per_hec\"] = shp_pred.geometry.area / 1e4 * 5.76519876\n",
    "shp_pred.to_file('../add_column_shp/clip_T50QRM_20190327T022551_B2348.shp', driver='ESRI Shapefile')"
   ]
  },
  {
   "cell_type": "code",
   "execution_count": 17,
   "metadata": {},
   "outputs": [],
   "source": [
    "shp_pred = gpd.read_file(\"../shp_result/clip_T51QTG_20170215T022751_B2348.shp\")\n",
    "shp_pred[\"area(hec)\"] = shp_pred.geometry.area / 1e4 # 原本是 m2\n",
    "shp_pred[\"yield_per_hec\"] = shp_pred.geometry.area / 1e4 * 5.852675\n",
    "shp_pred.to_file('../add_column_shp/clip_T51QTG_20170215T022751_B2348.shp', driver='ESRI Shapefile')"
   ]
  },
  {
   "cell_type": "code",
   "execution_count": 16,
   "metadata": {},
   "outputs": [],
   "source": [
    "shp_pred = gpd.read_file(\"../shp_result/clip_T51QTG_20190327T022551_B2348.shp\")\n",
    "shp_pred[\"area(hec)\"] = shp_pred.geometry.area / 1e4 # 原本是 m2\n",
    "shp_pred[\"yield_per_hec\"] = shp_pred.geometry.area / 1e4 * 5.76519876\n",
    "shp_pred.to_file('../add_column_shp/clip_T51QTG_20190327T022551_B2348.shp', driver='ESRI Shapefile')"
   ]
  },
  {
   "cell_type": "code",
   "execution_count": null,
   "metadata": {},
   "outputs": [],
   "source": []
  }
 ],
 "metadata": {
  "kernelspec": {
   "display_name": "Python 3",
   "language": "python",
   "name": "python3"
  },
  "language_info": {
   "codemirror_mode": {
    "name": "ipython",
    "version": 3
   },
   "file_extension": ".py",
   "mimetype": "text/x-python",
   "name": "python",
   "nbconvert_exporter": "python",
   "pygments_lexer": "ipython3",
   "version": "3.6.5"
  }
 },
 "nbformat": 4,
 "nbformat_minor": 2
}
